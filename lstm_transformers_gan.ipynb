{
 "cells": [
  {
   "cell_type": "code",
   "execution_count": 2,
   "metadata": {
    "cell_id": "68b6085c458b4b3db217876a992e6a2f",
    "deepnote_cell_type": "code",
    "deepnote_to_be_reexecuted": false,
    "execution_millis": 3423,
    "execution_start": 1700000945294,
    "source_hash": null
   },
   "outputs": [
    {
     "data": {
      "application/vnd.jupyter.widget-view+json": {
       "model_id": "e008129a4dcc4896ac9f705a970057c9",
       "version_major": 2,
       "version_minor": 0
      },
      "text/plain": [
       "interactive(children=(Dropdown(description='N_h', options=(10, 50, 100, 500, 1000), value=10), Checkbox(value=…"
      ]
     },
     "metadata": {},
     "output_type": "display_data"
    }
   ],
   "source": [
    "from sklearn.neural_network import MLPRegressor\n",
    "import numpy as np\n",
    "import matplotlib.pyplot as plt\n",
    "import seaborn as sns\n",
    "from sklearn.metrics import mean_squared_error\n",
    "import ipywidgets as widgets\n",
    "import ipywidgets\n",
    "import warnings\n",
    "warnings.filterwarnings('ignore')\n",
    "\n",
    "# Import linear regression model\n",
    "from sklearn.linear_model import LinearRegression\n",
    "# Min max scaler\n",
    "from sklearn.preprocessing import MinMaxScaler\n",
    "\n",
    "x = np.array([63, 64, 66, 69, 69, 71, 71, 72, 73, 75])\n",
    "\n",
    "y = np.array([127, 121, 142, 157, 162, 156, 169, 165, 181, 208])\n",
    "\n",
    "@ipywidgets.interact\n",
    "def plot(N_h = [10, 50, 100, 500, 1000],\n",
    "         zoom=False,\n",
    "        ):\n",
    "    mlpreg = MLPRegressor(activation='relu',max_iter=10000,hidden_layer_sizes=(N_h,))\n",
    "    x_scaled = (x - x.min()) / (x.max() - x.min())\n",
    "    mlpreg.fit(x_scaled.reshape(-1,1),y)\n",
    "    x_test = np.linspace(50, 100)\n",
    "    x_test_scaled = (x_test - x.min()) / (x.max() - x.min())\n",
    "    y_mlp = mlpreg.predict(x_test_scaled.reshape(-1, 1))\n",
    "    plt.scatter(x, y, label='Data')\n",
    "    plt.plot(x_test, y_mlp, '--r', label='MLP')\n",
    "    # Instance model\n",
    "    lin_reg = LinearRegression()\n",
    "    # Fit model (train)\n",
    "    lin_reg.fit(x.reshape(-1,1),y)  # our lineal model (base model)\n",
    "    y_lr_test = lin_reg.coef_*x_test + lin_reg.intercept_\n",
    "    plt.plot(x_test, y_lr_test, ':g', label='LR')\n",
    "    l=plt.legend()\n",
    "    if zoom:\n",
    "        plt.xlim(x.min(), x.max())"
   ]
  },
  {
   "cell_type": "markdown",
   "metadata": {
    "cell_id": "3bd48caebd10436bb79f9ea29671eb88",
    "deepnote_cell_type": "markdown"
   },
   "source": [
    "### Step by step implementation\n",
    "\n",
    "Find a function $f$, such that it maps an input $X$ to an output $y$:\n",
    "\n",
    "$$y=f(X)$$\n",
    "\n",
    "Where $y \\in \\mathbb{R}$ is a continuous variable.\n",
    "\n",
    "$f:=MLP\\_predict(X_{in}, W_l)$, $f:= \\sum_i a_i x_i + b$\n",
    "\n",
    "- Summary of the process:\n",
    "  - Min max scale input (**x_in**)  and output (**x_out**):\n",
    "```Python\n",
    "xs = (x - x.min()) / (x.max() - x.min())  # min max scale the x vector\n",
    "X_train = np.concatenate((xs.reshape(-1,1), np.ones((len(x),1))), axis=1)  # This is the input scaled\n",
    "x_in = np.matrix(X_train.transpose())  # X train\n",
    "scaler = MinMaxScaler(feature_range=feature_ranges[cut])  # min max scale y\n",
    "scaler.fit(y.reshape(-1, 1))  # fit scaler\n",
    "x_out = np.matrix(scaler.transform(y.reshape(-1, 1)).T)  # shape need for calling mlp\n",
    "```\n",
    "\n",
    "  - Min max scaler\n",
    "\n",
    "<img src=\"https://i.stack.imgur.com/EuitP.png\" alt=\"minmax\" style=\"width:20%\">\n",
    "\n",
    "- Neural network architecture:\n",
    "\n",
    "  - For our particular problem, a simple regression, $y=f(X)$, where $X$ is univariate.\n",
    "    - The input layer is composed of a single vector $X_1$\n",
    "  - The 1 vector corresponds to the bias. \n",
    "  - The output is of size 1, just one neuron (for the regression problem). \n",
    "    - Note that the activiation function in our MLP is logistic. So we scale the output between 0 and 1.\n",
    "  \n",
    "<img src=\"https://raw.githubusercontent.com/marsgr6/r-scripts/master/imgs/mlp_reg.jpeg\" alt=\"minmax\" style=\"width:40%\">\n",
    "\n",
    "- Output and test of the model\n",
    "  - Check in the code that the model is tested outside the limits of the training set. \n",
    "  - This the decision curve of the model.\n",
    "    - Not good outside the limits (answer why). \n",
    "    - Test the number of hidden neurons and identify an overfitted model.\n",
    "  - The model is compared with a base linear model. "
   ]
  },
  {
   "cell_type": "code",
   "execution_count": null,
   "metadata": {
    "cell_id": "572e0e6f05ad44d792d777ce5ca64c75",
    "deepnote_cell_type": "code",
    "deepnote_to_be_reexecuted": false,
    "execution_millis": 3182,
    "execution_start": 1683766456474,
    "source_hash": null,
    "tags": []
   },
   "outputs": [
    {
     "data": {
      "text/plain": [
       "<matplotlib.legend.Legend at 0x7fede6bbdf70>"
      ]
     },
     "execution_count": 9,
     "metadata": {},
     "output_type": "execute_result"
    },
    {
     "data": {
      "image/png": "[encoded data removed]",
      "text/plain": [
       "<Figure size 640x480 with 1 Axes>"
      ]
     },
     "metadata": {},
     "output_type": "display_data"
    }
   ],
   "source": [
    "import pandas as pd\n",
    "x = [63, 64, 66, 69, 69, 71, 71, 72, 73, 75]\n",
    "x = np.array(x)\n",
    "\n",
    "y = [127, 121, 142, 157, 162, 156, 169, 165, 181, 208]\n",
    "y = np.array(y)\n",
    "\n",
    "data = pd.DataFrame({'xi': x, 'yi': y})\n",
    "\n",
    "data.plot.scatter('xi', 'yi', label=\"Data\")\n",
    "\n",
    "# Instance model\n",
    "lin_reg = LinearRegression()\n",
    "# Fit model (train)\n",
    "lin_reg.fit(x.reshape(-1,1),y)\n",
    "\n",
    "y_lin_reg = lin_reg.coef_*x + lin_reg.intercept_\n",
    "plt.plot(x, y_lin_reg, 'g', label='Curve fit')\n",
    "plt.legend()"
   ]
  },
  {
   "cell_type": "code",
   "execution_count": null,
   "metadata": {
    "cell_id": "d3bf299e1a5541f7a62a59f911d0dffb",
    "deepnote_cell_type": "code"
   },
   "outputs": [
    {
     "data": {
      "text/plain": [
       "array([[63.,  1.],\n",
       "       [64.,  1.],\n",
       "       [66.,  1.],\n",
       "       [69.,  1.],\n",
       "       [69.,  1.],\n",
       "       [71.,  1.],\n",
       "       [71.,  1.],\n",
       "       [72.,  1.],\n",
       "       [73.,  1.],\n",
       "       [75.,  1.]])"
      ]
     },
     "execution_count": 26,
     "metadata": {},
     "output_type": "execute_result"
    }
   ],
   "source": [
    "X_train = np.concatenate((x.reshape(-1,1), np.ones((len(x),1))), axis=1)  # The ones are the bias \n",
    "X_train"
   ]
  },
  {
   "cell_type": "code",
   "execution_count": null,
   "metadata": {
    "cell_id": "455213607d9a4e86bd0210ac9a388d0f",
    "deepnote_cell_type": "code",
    "deepnote_to_be_reexecuted": false,
    "execution_millis": 3,
    "execution_start": 1683766462948,
    "source_hash": null,
    "tags": []
   },
   "outputs": [
    {
     "data": {
      "text/plain": [
       "(array([[0.        , 1.        ],\n",
       "        [0.08333333, 1.        ],\n",
       "        [0.25      , 1.        ],\n",
       "        [0.5       , 1.        ],\n",
       "        [0.5       , 1.        ],\n",
       "        [0.66666667, 1.        ],\n",
       "        [0.66666667, 1.        ],\n",
       "        [0.75      , 1.        ],\n",
       "        [0.83333333, 1.        ],\n",
       "        [1.        , 1.        ]]),\n",
       " matrix([[0.06896552, 0.        , 0.24137931, 0.4137931 , 0.47126437,\n",
       "          0.40229885, 0.55172414, 0.50574713, 0.68965517, 1.        ]]))"
      ]
     },
     "execution_count": 39,
     "metadata": {},
     "output_type": "execute_result"
    }
   ],
   "source": [
    "xs = (x - x.min()) / (x.max() - x.min())\n",
    "X_train = np.concatenate((xs.reshape(-1,1), np.ones((len(x),1))), axis=1)  # This is the input scaled\n",
    "r_i = np.matrix(X_train.transpose())  # X\n",
    "r_d = np.matrix(y.transpose())  # y\n",
    "scaler = MinMaxScaler()\n",
    "scaler.fit(y.reshape(-1, 1))\n",
    "r_d = np.matrix(scaler.transform(y.reshape(-1, 1)).T)\n",
    "X_train, r_d"
   ]
  },
  {
   "cell_type": "markdown",
   "metadata": {
    "cell_id": "cbf39a94d4be4ccbb5427e6ca1101a81",
    "deepnote_cell_type": "markdown",
    "tags": []
   },
   "source": [
    "### Scale the data\n",
    "\n",
    "- Min max scaler\n",
    "\n",
    "<img src=\"https://i.stack.imgur.com/EuitP.png\" alt=\"minmax\" style=\"width:30%\">"
   ]
  },
  {
   "cell_type": "code",
   "execution_count": null,
   "metadata": {
    "cell_id": "7c59c8b294c64acdb0f313f9f49fc8eb",
    "deepnote_cell_type": "code"
   },
   "outputs": [],
   "source": [
    "x_test = np.linspace(50, 100)\n",
    "x_test_scaled = (x_test - x.min()) / (x.max() - x.min())\n",
    "r_i_test = np.concatenate((x_test_scaled.reshape(-1,1), np.ones((len(x_test_scaled),1))), axis=1)\n",
    "y_test = mlp_predict(r_i_test.transpose(), result[2], result[3])"
   ]
  },
  {
   "cell_type": "code",
   "execution_count": null,
   "metadata": {
    "cell_id": "a684f05ee20a4f86ae7ac3a871411754",
    "deepnote_cell_type": "code"
   },
   "outputs": [],
   "source": [
    "a, b = y.min(), y.max()\n",
    "y_orig_scale = np.array(y_test).flatten()*(b-a) + a"
   ]
  },
  {
   "cell_type": "code",
   "execution_count": null,
   "metadata": {
    "cell_id": "8afabbd5ce5d473d93123e86c9caf0ae",
    "deepnote_cell_type": "code"
   },
   "outputs": [
    {
     "data": {
      "text/plain": [
       "array([125.93755274, 129.55376466, 139.68826183, 154.23767472,\n",
       "       154.23767472, 163.4323402 , 163.4323402 , 169.79942307,\n",
       "       178.50674123, 198.65157859])"
      ]
     },
     "execution_count": 94,
     "metadata": {},
     "output_type": "execute_result"
    }
   ],
   "source": [
    "y_mlp = np.array(result[1]).flatten()\n",
    "y_mlp = y_mlp*(b-a) + a"
   ]
  },
  {
   "cell_type": "code",
   "execution_count": null,
   "metadata": {
    "cell_id": "e94745b37a3741b0bc9c1441c648bdb5",
    "deepnote_cell_type": "code"
   },
   "outputs": [
    {
     "name": "stdout",
     "output_type": "stream",
     "text": [
      "MSE (linreg): 59.738595220854634\n",
      "MSE (MLP): 35.04062525627255\n"
     ]
    },
    {
     "data": {
      "image/png": "[encoded data removed]",
      "text/plain": [
       "<Figure size 640x480 with 1 Axes>"
      ]
     },
     "metadata": {},
     "output_type": "display_data"
    }
   ],
   "source": [
    "data.plot.scatter('xi', 'yi')\n",
    "plt.plot(x_test, y_orig_scale, '--g', label='MLP')\n",
    "plt.plot(x, y_lin_reg, ':r', label='Curve fit')\n",
    "plt.xlim(x.min()-0.1, x.max()+0.1)\n",
    "plt.legend()\n",
    "print(\"MSE (linreg):\", mean_squared_error(y, y_lin_reg))\n",
    "print(\"MSE (MLP):\", mean_squared_error(y, y_mlp))"
   ]
  },
  {
   "cell_type": "markdown",
   "metadata": {
    "cell_id": "b6322fb5ae4546859aaef72c691c8595",
    "deepnote_cell_type": "markdown",
    "tags": []
   },
   "source": [
    "Research: \n",
    "- Wich metrics are used to evaluate a regression model: https://machinelearningmastery.com/regression-metrics-for-machine-learning/\n",
    "- https://medium.com/mini-distill/effect-of-batch-size-on-training-dynamics-21c14f7a716e"
   ]
  },
  {
   "cell_type": "markdown",
   "metadata": {
    "cell_id": "c2b2330cb3b64815ba4de9fcf35046b5",
    "deepnote_cell_type": "markdown"
   },
   "source": [
    "Sources: \n",
    "  - https://www.kaggle.com/code/androbomb/simple-nn-with-python-multi-layer-perceptron\n",
    "  - https://web.cs.dal.ca/~tt/fundamentals/programs/Octave/Chapter6/\n",
    "  - https://www.mathworks.com/academia/books/fundamentals-of-computational-neuroscience-trappenberg.html"
   ]
  }
 ],
 "metadata": {
  "deepnote_execution_queue": [],
  "deepnote_notebook_id": "4047672092bc44e6b7778e715d9a1b62",
  "kernelspec": {
   "display_name": "Python 3 (ipykernel)",
   "language": "python",
   "name": "python3"
  },
  "language_info": {
   "codemirror_mode": {
    "name": "ipython",
    "version": 3
   },
   "file_extension": ".py",
   "mimetype": "text/x-python",
   "name": "python",
   "nbconvert_exporter": "python",
   "pygments_lexer": "ipython3",
   "version": "3.11.5"
  }
 },
 "nbformat": 4,
 "nbformat_minor": 1
}
